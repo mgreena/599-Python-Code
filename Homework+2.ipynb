{
 "cells": [
  {
   "cell_type": "markdown",
   "metadata": {},
   "source": [
    "# Querying Data Frames Using If and For Loops, Defining Missing Values, and Using Comprehensions"
   ]
  },
  {
   "cell_type": "markdown",
   "metadata": {},
   "source": [
    "In this code, we'll identify differences between types of \"missing\" values in Python, use loops to answer questions about a data set, and then play with python comprehensions"
   ]
  },
  {
   "cell_type": "markdown",
   "metadata": {},
   "source": [
    "First, the differences between NaN vs \"None\":"
   ]
  },
  {
   "cell_type": "code",
   "execution_count": 3,
   "metadata": {
    "collapsed": false
   },
   "outputs": [
    {
     "name": "stdout",
     "output_type": "stream",
     "text": [
      "3.0 is the root of  9\n",
      "missing values as input\n",
      "missing values as input\n",
      "string as input\n",
      "negative value as input\n",
      "12.0 is the root of  144\n",
      "negative value as input\n"
     ]
    }
   ],
   "source": [
    "import numpy as np \n",
    "import pandas as pd\n",
    "from math import sqrt\n",
    "\n",
    "values=[9, None, np.nan, '1000', -100, 144,-72]\n",
    "for value in values: # notice the order of 'IFs'\n",
    "    if pd.isnull(value): # condition1\n",
    "        print ('missing values as input')\n",
    "        continue\n",
    "    if isinstance(value, str): #condition2\n",
    "        print ('string as input')\n",
    "        continue\n",
    "    if value < 0: # condition3\n",
    "        print ('negative value as input')\n",
    "        continue\n",
    "    print (sqrt(value), 'is the root of ',value)    "
   ]
  },
  {
   "cell_type": "code",
   "execution_count": 4,
   "metadata": {
    "collapsed": false
   },
   "outputs": [
    {
     "data": {
      "text/plain": [
       "(NoneType, float)"
      ]
     },
     "execution_count": 4,
     "metadata": {},
     "output_type": "execute_result"
    }
   ],
   "source": [
    "# Note: None and NAN are different\n",
    "type(None),type(np.nan) #both indicate missing value"
   ]
  },
  {
   "cell_type": "markdown",
   "metadata": {},
   "source": [
    "Change the line 'value==None' for np.isnan(value) and explain what happens (isnan() is a function in numpy - the opposite is isfinite()). You want to change the values in the list to see the different outputs."
   ]
  },
  {
   "cell_type": "code",
   "execution_count": null,
   "metadata": {
    "collapsed": true
   },
   "outputs": [],
   "source": []
  },
  {
   "cell_type": "markdown",
   "metadata": {},
   "source": [
    "This now asks if the value is Nan (or missing), rather than if it equals none.\n",
    "The code breaks with the value \"none\" - np.nan can't process that value. It can only process numerical types."
   ]
  },
  {
   "cell_type": "markdown",
   "metadata": {},
   "source": [
    "Now change the order of all the conditions and explain what happens:"
   ]
  },
  {
   "cell_type": "code",
   "execution_count": null,
   "metadata": {
    "collapsed": true
   },
   "outputs": [],
   "source": []
  },
  {
   "cell_type": "markdown",
   "metadata": {},
   "source": [
    "With different orders more of the conditions run. You are changing what python\n",
    "checks for first - if it can't process the condition, however, it won't continue\n",
    "down the list. "
   ]
  },
  {
   "cell_type": "code",
   "execution_count": null,
   "metadata": {
    "collapsed": true
   },
   "outputs": [],
   "source": []
  },
  {
   "cell_type": "markdown",
   "metadata": {},
   "source": [
    "The function isnull and notnull from pandas are very helpful to determine if you have a missing value, change the first condition to use isnull."
   ]
  },
  {
   "cell_type": "code",
   "execution_count": null,
   "metadata": {
    "collapsed": true
   },
   "outputs": [],
   "source": []
  },
  {
   "cell_type": "markdown",
   "metadata": {},
   "source": [
    "This works with both None and Nan!"
   ]
  },
  {
   "cell_type": "markdown",
   "metadata": {},
   "source": [
    "## Loops"
   ]
  },
  {
   "cell_type": "markdown",
   "metadata": {},
   "source": [
    "Use a loop to find the youngest age, and inform who has that age."
   ]
  },
  {
   "cell_type": "code",
   "execution_count": null,
   "metadata": {
    "collapsed": true
   },
   "outputs": [],
   "source": []
  }
 ],
 "metadata": {
  "kernelspec": {
   "display_name": "Python 3",
   "language": "python",
   "name": "python3"
  },
  "language_info": {
   "codemirror_mode": {
    "name": "ipython",
    "version": 3
   },
   "file_extension": ".py",
   "mimetype": "text/x-python",
   "name": "python",
   "nbconvert_exporter": "python",
   "pygments_lexer": "ipython3",
   "version": "3.6.0"
  }
 },
 "nbformat": 4,
 "nbformat_minor": 2
}
